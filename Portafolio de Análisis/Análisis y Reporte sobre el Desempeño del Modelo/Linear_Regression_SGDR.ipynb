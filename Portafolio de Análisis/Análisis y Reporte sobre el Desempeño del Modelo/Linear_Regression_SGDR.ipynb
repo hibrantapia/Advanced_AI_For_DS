{
 "cells": [
  {
   "cell_type": "markdown",
   "metadata": {},
   "source": [
    "# Análisis y Reporte sobre el Desempeño del Modelo\n",
    "\n",
    "---\n",
    "\n",
    "### Héctor Hibran Tapia Fernández - A01661114\n",
    "\n",
    "---"
   ]
  },
  {
   "cell_type": "code",
   "execution_count": 123,
   "metadata": {},
   "outputs": [],
   "source": [
    "import random\n",
    "import numpy as np\n",
    "import pandas as pd\n",
    "import matplotlib.pyplot as plt\n",
    "from sklearn.linear_model import SGDRegressor\n",
    "from sklearn.metrics import mean_squared_error\n",
    "from sklearn.model_selection import train_test_split"
   ]
  },
  {
   "cell_type": "markdown",
   "metadata": {},
   "source": [
    "### 2. Define una semilla que corresponda con los últimos cuatro dígitos de tu matrícula."
   ]
  },
  {
   "cell_type": "code",
   "execution_count": 124,
   "metadata": {},
   "outputs": [
    {
     "data": {
      "text/html": [
       "<div>\n",
       "<style scoped>\n",
       "    .dataframe tbody tr th:only-of-type {\n",
       "        vertical-align: middle;\n",
       "    }\n",
       "\n",
       "    .dataframe tbody tr th {\n",
       "        vertical-align: top;\n",
       "    }\n",
       "\n",
       "    .dataframe thead th {\n",
       "        text-align: right;\n",
       "    }\n",
       "</style>\n",
       "<table border=\"1\" class=\"dataframe\">\n",
       "  <thead>\n",
       "    <tr style=\"text-align: right;\">\n",
       "      <th></th>\n",
       "      <th>Celsius</th>\n",
       "      <th>Valks</th>\n",
       "    </tr>\n",
       "  </thead>\n",
       "  <tbody>\n",
       "    <tr>\n",
       "      <th>0</th>\n",
       "      <td>61.4720</td>\n",
       "      <td>-139.7400</td>\n",
       "    </tr>\n",
       "    <tr>\n",
       "      <th>1</th>\n",
       "      <td>70.5790</td>\n",
       "      <td>-156.6000</td>\n",
       "    </tr>\n",
       "    <tr>\n",
       "      <th>2</th>\n",
       "      <td>-7.3013</td>\n",
       "      <td>73.2690</td>\n",
       "    </tr>\n",
       "    <tr>\n",
       "      <th>3</th>\n",
       "      <td>71.3380</td>\n",
       "      <td>-165.4200</td>\n",
       "    </tr>\n",
       "    <tr>\n",
       "      <th>4</th>\n",
       "      <td>43.2360</td>\n",
       "      <td>-75.8350</td>\n",
       "    </tr>\n",
       "    <tr>\n",
       "      <th>...</th>\n",
       "      <td>...</td>\n",
       "      <td>...</td>\n",
       "    </tr>\n",
       "    <tr>\n",
       "      <th>95</th>\n",
       "      <td>-7.0094</td>\n",
       "      <td>69.6320</td>\n",
       "    </tr>\n",
       "    <tr>\n",
       "      <th>96</th>\n",
       "      <td>36.8820</td>\n",
       "      <td>-71.2400</td>\n",
       "    </tr>\n",
       "    <tr>\n",
       "      <th>97</th>\n",
       "      <td>26.9390</td>\n",
       "      <td>-34.2550</td>\n",
       "    </tr>\n",
       "    <tr>\n",
       "      <th>98</th>\n",
       "      <td>-18.8100</td>\n",
       "      <td>106.4300</td>\n",
       "    </tr>\n",
       "    <tr>\n",
       "      <th>99</th>\n",
       "      <td>13.7120</td>\n",
       "      <td>9.1011</td>\n",
       "    </tr>\n",
       "  </tbody>\n",
       "</table>\n",
       "<p>100 rows × 2 columns</p>\n",
       "</div>"
      ],
      "text/plain": [
       "    Celsius     Valks\n",
       "0   61.4720 -139.7400\n",
       "1   70.5790 -156.6000\n",
       "2   -7.3013   73.2690\n",
       "3   71.3380 -165.4200\n",
       "4   43.2360  -75.8350\n",
       "..      ...       ...\n",
       "95  -7.0094   69.6320\n",
       "96  36.8820  -71.2400\n",
       "97  26.9390  -34.2550\n",
       "98 -18.8100  106.4300\n",
       "99  13.7120    9.1011\n",
       "\n",
       "[100 rows x 2 columns]"
      ]
     },
     "execution_count": 124,
     "metadata": {},
     "output_type": "execute_result"
    }
   ],
   "source": [
    "df = pd.read_csv(\"./Valhalla23.csv\") \n",
    "semilla = np.random.seed(1114) # Ultimos 4 dígitos de mi matrícula\n",
    "df"
   ]
  },
  {
   "cell_type": "markdown",
   "metadata": {},
   "source": [
    "### 3. Carga el set de datos de Valhalla y divide el set de datos en entrenamiento (40%), validación (40%), y prueba (20%), utilizando el método train_test_split. y la semilla definida arriba."
   ]
  },
  {
   "cell_type": "code",
   "execution_count": 125,
   "metadata": {},
   "outputs": [],
   "source": [
    "train_val_data, test_data = train_test_split(df, test_size = 0.2, random_state = semilla) # train_val_data: contiene el 80% de los datos (conjunto de entrenamiento y validación). - test_data: contiene el 20% de los datos (conjunto de prueba).\n",
    "train_data, val_data = train_test_split(train_val_data, test_size = 0.5, random_state = semilla) # train_data: contiene el 50% de train_val_data, lo que equivale al 40% de los datos originales. - val_data: contiene el otro 50% de train_val_data, lo que equivale al 40% de los datos originales.\n",
    "\n",
    "# print(f\"Entrenamiento: {len(train_data)}, Validación: {len(val_data)}, Prueba: {len(test_data)}\")"
   ]
  },
  {
   "cell_type": "markdown",
   "metadata": {},
   "source": [
    "### 4. Entrena un modelo base de tipo SGDRegressor que utilice una tasa de aprendizaje de 1E-4, un máximo de iteraciones de un millón, y que utilice la semilla definida arriba.\n"
   ]
  },
  {
   "cell_type": "code",
   "execution_count": 126,
   "metadata": {},
   "outputs": [
    {
     "data": {
      "text/html": [
       "<style>#sk-container-id-10 {\n",
       "  /* Definition of color scheme common for light and dark mode */\n",
       "  --sklearn-color-text: black;\n",
       "  --sklearn-color-line: gray;\n",
       "  /* Definition of color scheme for unfitted estimators */\n",
       "  --sklearn-color-unfitted-level-0: #fff5e6;\n",
       "  --sklearn-color-unfitted-level-1: #f6e4d2;\n",
       "  --sklearn-color-unfitted-level-2: #ffe0b3;\n",
       "  --sklearn-color-unfitted-level-3: chocolate;\n",
       "  /* Definition of color scheme for fitted estimators */\n",
       "  --sklearn-color-fitted-level-0: #f0f8ff;\n",
       "  --sklearn-color-fitted-level-1: #d4ebff;\n",
       "  --sklearn-color-fitted-level-2: #b3dbfd;\n",
       "  --sklearn-color-fitted-level-3: cornflowerblue;\n",
       "\n",
       "  /* Specific color for light theme */\n",
       "  --sklearn-color-text-on-default-background: var(--sg-text-color, var(--theme-code-foreground, var(--jp-content-font-color1, black)));\n",
       "  --sklearn-color-background: var(--sg-background-color, var(--theme-background, var(--jp-layout-color0, white)));\n",
       "  --sklearn-color-border-box: var(--sg-text-color, var(--theme-code-foreground, var(--jp-content-font-color1, black)));\n",
       "  --sklearn-color-icon: #696969;\n",
       "\n",
       "  @media (prefers-color-scheme: dark) {\n",
       "    /* Redefinition of color scheme for dark theme */\n",
       "    --sklearn-color-text-on-default-background: var(--sg-text-color, var(--theme-code-foreground, var(--jp-content-font-color1, white)));\n",
       "    --sklearn-color-background: var(--sg-background-color, var(--theme-background, var(--jp-layout-color0, #111)));\n",
       "    --sklearn-color-border-box: var(--sg-text-color, var(--theme-code-foreground, var(--jp-content-font-color1, white)));\n",
       "    --sklearn-color-icon: #878787;\n",
       "  }\n",
       "}\n",
       "\n",
       "#sk-container-id-10 {\n",
       "  color: var(--sklearn-color-text);\n",
       "}\n",
       "\n",
       "#sk-container-id-10 pre {\n",
       "  padding: 0;\n",
       "}\n",
       "\n",
       "#sk-container-id-10 input.sk-hidden--visually {\n",
       "  border: 0;\n",
       "  clip: rect(1px 1px 1px 1px);\n",
       "  clip: rect(1px, 1px, 1px, 1px);\n",
       "  height: 1px;\n",
       "  margin: -1px;\n",
       "  overflow: hidden;\n",
       "  padding: 0;\n",
       "  position: absolute;\n",
       "  width: 1px;\n",
       "}\n",
       "\n",
       "#sk-container-id-10 div.sk-dashed-wrapped {\n",
       "  border: 1px dashed var(--sklearn-color-line);\n",
       "  margin: 0 0.4em 0.5em 0.4em;\n",
       "  box-sizing: border-box;\n",
       "  padding-bottom: 0.4em;\n",
       "  background-color: var(--sklearn-color-background);\n",
       "}\n",
       "\n",
       "#sk-container-id-10 div.sk-container {\n",
       "  /* jupyter's `normalize.less` sets `[hidden] { display: none; }`\n",
       "     but bootstrap.min.css set `[hidden] { display: none !important; }`\n",
       "     so we also need the `!important` here to be able to override the\n",
       "     default hidden behavior on the sphinx rendered scikit-learn.org.\n",
       "     See: https://github.com/scikit-learn/scikit-learn/issues/21755 */\n",
       "  display: inline-block !important;\n",
       "  position: relative;\n",
       "}\n",
       "\n",
       "#sk-container-id-10 div.sk-text-repr-fallback {\n",
       "  display: none;\n",
       "}\n",
       "\n",
       "div.sk-parallel-item,\n",
       "div.sk-serial,\n",
       "div.sk-item {\n",
       "  /* draw centered vertical line to link estimators */\n",
       "  background-image: linear-gradient(var(--sklearn-color-text-on-default-background), var(--sklearn-color-text-on-default-background));\n",
       "  background-size: 2px 100%;\n",
       "  background-repeat: no-repeat;\n",
       "  background-position: center center;\n",
       "}\n",
       "\n",
       "/* Parallel-specific style estimator block */\n",
       "\n",
       "#sk-container-id-10 div.sk-parallel-item::after {\n",
       "  content: \"\";\n",
       "  width: 100%;\n",
       "  border-bottom: 2px solid var(--sklearn-color-text-on-default-background);\n",
       "  flex-grow: 1;\n",
       "}\n",
       "\n",
       "#sk-container-id-10 div.sk-parallel {\n",
       "  display: flex;\n",
       "  align-items: stretch;\n",
       "  justify-content: center;\n",
       "  background-color: var(--sklearn-color-background);\n",
       "  position: relative;\n",
       "}\n",
       "\n",
       "#sk-container-id-10 div.sk-parallel-item {\n",
       "  display: flex;\n",
       "  flex-direction: column;\n",
       "}\n",
       "\n",
       "#sk-container-id-10 div.sk-parallel-item:first-child::after {\n",
       "  align-self: flex-end;\n",
       "  width: 50%;\n",
       "}\n",
       "\n",
       "#sk-container-id-10 div.sk-parallel-item:last-child::after {\n",
       "  align-self: flex-start;\n",
       "  width: 50%;\n",
       "}\n",
       "\n",
       "#sk-container-id-10 div.sk-parallel-item:only-child::after {\n",
       "  width: 0;\n",
       "}\n",
       "\n",
       "/* Serial-specific style estimator block */\n",
       "\n",
       "#sk-container-id-10 div.sk-serial {\n",
       "  display: flex;\n",
       "  flex-direction: column;\n",
       "  align-items: center;\n",
       "  background-color: var(--sklearn-color-background);\n",
       "  padding-right: 1em;\n",
       "  padding-left: 1em;\n",
       "}\n",
       "\n",
       "\n",
       "/* Toggleable style: style used for estimator/Pipeline/ColumnTransformer box that is\n",
       "clickable and can be expanded/collapsed.\n",
       "- Pipeline and ColumnTransformer use this feature and define the default style\n",
       "- Estimators will overwrite some part of the style using the `sk-estimator` class\n",
       "*/\n",
       "\n",
       "/* Pipeline and ColumnTransformer style (default) */\n",
       "\n",
       "#sk-container-id-10 div.sk-toggleable {\n",
       "  /* Default theme specific background. It is overwritten whether we have a\n",
       "  specific estimator or a Pipeline/ColumnTransformer */\n",
       "  background-color: var(--sklearn-color-background);\n",
       "}\n",
       "\n",
       "/* Toggleable label */\n",
       "#sk-container-id-10 label.sk-toggleable__label {\n",
       "  cursor: pointer;\n",
       "  display: block;\n",
       "  width: 100%;\n",
       "  margin-bottom: 0;\n",
       "  padding: 0.5em;\n",
       "  box-sizing: border-box;\n",
       "  text-align: center;\n",
       "}\n",
       "\n",
       "#sk-container-id-10 label.sk-toggleable__label-arrow:before {\n",
       "  /* Arrow on the left of the label */\n",
       "  content: \"▸\";\n",
       "  float: left;\n",
       "  margin-right: 0.25em;\n",
       "  color: var(--sklearn-color-icon);\n",
       "}\n",
       "\n",
       "#sk-container-id-10 label.sk-toggleable__label-arrow:hover:before {\n",
       "  color: var(--sklearn-color-text);\n",
       "}\n",
       "\n",
       "/* Toggleable content - dropdown */\n",
       "\n",
       "#sk-container-id-10 div.sk-toggleable__content {\n",
       "  max-height: 0;\n",
       "  max-width: 0;\n",
       "  overflow: hidden;\n",
       "  text-align: left;\n",
       "  /* unfitted */\n",
       "  background-color: var(--sklearn-color-unfitted-level-0);\n",
       "}\n",
       "\n",
       "#sk-container-id-10 div.sk-toggleable__content.fitted {\n",
       "  /* fitted */\n",
       "  background-color: var(--sklearn-color-fitted-level-0);\n",
       "}\n",
       "\n",
       "#sk-container-id-10 div.sk-toggleable__content pre {\n",
       "  margin: 0.2em;\n",
       "  border-radius: 0.25em;\n",
       "  color: var(--sklearn-color-text);\n",
       "  /* unfitted */\n",
       "  background-color: var(--sklearn-color-unfitted-level-0);\n",
       "}\n",
       "\n",
       "#sk-container-id-10 div.sk-toggleable__content.fitted pre {\n",
       "  /* unfitted */\n",
       "  background-color: var(--sklearn-color-fitted-level-0);\n",
       "}\n",
       "\n",
       "#sk-container-id-10 input.sk-toggleable__control:checked~div.sk-toggleable__content {\n",
       "  /* Expand drop-down */\n",
       "  max-height: 200px;\n",
       "  max-width: 100%;\n",
       "  overflow: auto;\n",
       "}\n",
       "\n",
       "#sk-container-id-10 input.sk-toggleable__control:checked~label.sk-toggleable__label-arrow:before {\n",
       "  content: \"▾\";\n",
       "}\n",
       "\n",
       "/* Pipeline/ColumnTransformer-specific style */\n",
       "\n",
       "#sk-container-id-10 div.sk-label input.sk-toggleable__control:checked~label.sk-toggleable__label {\n",
       "  color: var(--sklearn-color-text);\n",
       "  background-color: var(--sklearn-color-unfitted-level-2);\n",
       "}\n",
       "\n",
       "#sk-container-id-10 div.sk-label.fitted input.sk-toggleable__control:checked~label.sk-toggleable__label {\n",
       "  background-color: var(--sklearn-color-fitted-level-2);\n",
       "}\n",
       "\n",
       "/* Estimator-specific style */\n",
       "\n",
       "/* Colorize estimator box */\n",
       "#sk-container-id-10 div.sk-estimator input.sk-toggleable__control:checked~label.sk-toggleable__label {\n",
       "  /* unfitted */\n",
       "  background-color: var(--sklearn-color-unfitted-level-2);\n",
       "}\n",
       "\n",
       "#sk-container-id-10 div.sk-estimator.fitted input.sk-toggleable__control:checked~label.sk-toggleable__label {\n",
       "  /* fitted */\n",
       "  background-color: var(--sklearn-color-fitted-level-2);\n",
       "}\n",
       "\n",
       "#sk-container-id-10 div.sk-label label.sk-toggleable__label,\n",
       "#sk-container-id-10 div.sk-label label {\n",
       "  /* The background is the default theme color */\n",
       "  color: var(--sklearn-color-text-on-default-background);\n",
       "}\n",
       "\n",
       "/* On hover, darken the color of the background */\n",
       "#sk-container-id-10 div.sk-label:hover label.sk-toggleable__label {\n",
       "  color: var(--sklearn-color-text);\n",
       "  background-color: var(--sklearn-color-unfitted-level-2);\n",
       "}\n",
       "\n",
       "/* Label box, darken color on hover, fitted */\n",
       "#sk-container-id-10 div.sk-label.fitted:hover label.sk-toggleable__label.fitted {\n",
       "  color: var(--sklearn-color-text);\n",
       "  background-color: var(--sklearn-color-fitted-level-2);\n",
       "}\n",
       "\n",
       "/* Estimator label */\n",
       "\n",
       "#sk-container-id-10 div.sk-label label {\n",
       "  font-family: monospace;\n",
       "  font-weight: bold;\n",
       "  display: inline-block;\n",
       "  line-height: 1.2em;\n",
       "}\n",
       "\n",
       "#sk-container-id-10 div.sk-label-container {\n",
       "  text-align: center;\n",
       "}\n",
       "\n",
       "/* Estimator-specific */\n",
       "#sk-container-id-10 div.sk-estimator {\n",
       "  font-family: monospace;\n",
       "  border: 1px dotted var(--sklearn-color-border-box);\n",
       "  border-radius: 0.25em;\n",
       "  box-sizing: border-box;\n",
       "  margin-bottom: 0.5em;\n",
       "  /* unfitted */\n",
       "  background-color: var(--sklearn-color-unfitted-level-0);\n",
       "}\n",
       "\n",
       "#sk-container-id-10 div.sk-estimator.fitted {\n",
       "  /* fitted */\n",
       "  background-color: var(--sklearn-color-fitted-level-0);\n",
       "}\n",
       "\n",
       "/* on hover */\n",
       "#sk-container-id-10 div.sk-estimator:hover {\n",
       "  /* unfitted */\n",
       "  background-color: var(--sklearn-color-unfitted-level-2);\n",
       "}\n",
       "\n",
       "#sk-container-id-10 div.sk-estimator.fitted:hover {\n",
       "  /* fitted */\n",
       "  background-color: var(--sklearn-color-fitted-level-2);\n",
       "}\n",
       "\n",
       "/* Specification for estimator info (e.g. \"i\" and \"?\") */\n",
       "\n",
       "/* Common style for \"i\" and \"?\" */\n",
       "\n",
       ".sk-estimator-doc-link,\n",
       "a:link.sk-estimator-doc-link,\n",
       "a:visited.sk-estimator-doc-link {\n",
       "  float: right;\n",
       "  font-size: smaller;\n",
       "  line-height: 1em;\n",
       "  font-family: monospace;\n",
       "  background-color: var(--sklearn-color-background);\n",
       "  border-radius: 1em;\n",
       "  height: 1em;\n",
       "  width: 1em;\n",
       "  text-decoration: none !important;\n",
       "  margin-left: 1ex;\n",
       "  /* unfitted */\n",
       "  border: var(--sklearn-color-unfitted-level-1) 1pt solid;\n",
       "  color: var(--sklearn-color-unfitted-level-1);\n",
       "}\n",
       "\n",
       ".sk-estimator-doc-link.fitted,\n",
       "a:link.sk-estimator-doc-link.fitted,\n",
       "a:visited.sk-estimator-doc-link.fitted {\n",
       "  /* fitted */\n",
       "  border: var(--sklearn-color-fitted-level-1) 1pt solid;\n",
       "  color: var(--sklearn-color-fitted-level-1);\n",
       "}\n",
       "\n",
       "/* On hover */\n",
       "div.sk-estimator:hover .sk-estimator-doc-link:hover,\n",
       ".sk-estimator-doc-link:hover,\n",
       "div.sk-label-container:hover .sk-estimator-doc-link:hover,\n",
       ".sk-estimator-doc-link:hover {\n",
       "  /* unfitted */\n",
       "  background-color: var(--sklearn-color-unfitted-level-3);\n",
       "  color: var(--sklearn-color-background);\n",
       "  text-decoration: none;\n",
       "}\n",
       "\n",
       "div.sk-estimator.fitted:hover .sk-estimator-doc-link.fitted:hover,\n",
       ".sk-estimator-doc-link.fitted:hover,\n",
       "div.sk-label-container:hover .sk-estimator-doc-link.fitted:hover,\n",
       ".sk-estimator-doc-link.fitted:hover {\n",
       "  /* fitted */\n",
       "  background-color: var(--sklearn-color-fitted-level-3);\n",
       "  color: var(--sklearn-color-background);\n",
       "  text-decoration: none;\n",
       "}\n",
       "\n",
       "/* Span, style for the box shown on hovering the info icon */\n",
       ".sk-estimator-doc-link span {\n",
       "  display: none;\n",
       "  z-index: 9999;\n",
       "  position: relative;\n",
       "  font-weight: normal;\n",
       "  right: .2ex;\n",
       "  padding: .5ex;\n",
       "  margin: .5ex;\n",
       "  width: min-content;\n",
       "  min-width: 20ex;\n",
       "  max-width: 50ex;\n",
       "  color: var(--sklearn-color-text);\n",
       "  box-shadow: 2pt 2pt 4pt #999;\n",
       "  /* unfitted */\n",
       "  background: var(--sklearn-color-unfitted-level-0);\n",
       "  border: .5pt solid var(--sklearn-color-unfitted-level-3);\n",
       "}\n",
       "\n",
       ".sk-estimator-doc-link.fitted span {\n",
       "  /* fitted */\n",
       "  background: var(--sklearn-color-fitted-level-0);\n",
       "  border: var(--sklearn-color-fitted-level-3);\n",
       "}\n",
       "\n",
       ".sk-estimator-doc-link:hover span {\n",
       "  display: block;\n",
       "}\n",
       "\n",
       "/* \"?\"-specific style due to the `<a>` HTML tag */\n",
       "\n",
       "#sk-container-id-10 a.estimator_doc_link {\n",
       "  float: right;\n",
       "  font-size: 1rem;\n",
       "  line-height: 1em;\n",
       "  font-family: monospace;\n",
       "  background-color: var(--sklearn-color-background);\n",
       "  border-radius: 1rem;\n",
       "  height: 1rem;\n",
       "  width: 1rem;\n",
       "  text-decoration: none;\n",
       "  /* unfitted */\n",
       "  color: var(--sklearn-color-unfitted-level-1);\n",
       "  border: var(--sklearn-color-unfitted-level-1) 1pt solid;\n",
       "}\n",
       "\n",
       "#sk-container-id-10 a.estimator_doc_link.fitted {\n",
       "  /* fitted */\n",
       "  border: var(--sklearn-color-fitted-level-1) 1pt solid;\n",
       "  color: var(--sklearn-color-fitted-level-1);\n",
       "}\n",
       "\n",
       "/* On hover */\n",
       "#sk-container-id-10 a.estimator_doc_link:hover {\n",
       "  /* unfitted */\n",
       "  background-color: var(--sklearn-color-unfitted-level-3);\n",
       "  color: var(--sklearn-color-background);\n",
       "  text-decoration: none;\n",
       "}\n",
       "\n",
       "#sk-container-id-10 a.estimator_doc_link.fitted:hover {\n",
       "  /* fitted */\n",
       "  background-color: var(--sklearn-color-fitted-level-3);\n",
       "}\n",
       "</style><div id=\"sk-container-id-10\" class=\"sk-top-container\"><div class=\"sk-text-repr-fallback\"><pre>SGDRegressor(eta0=0.0001, learning_rate=&#x27;constant&#x27;, max_iter=1000000)</pre><b>In a Jupyter environment, please rerun this cell to show the HTML representation or trust the notebook. <br />On GitHub, the HTML representation is unable to render, please try loading this page with nbviewer.org.</b></div><div class=\"sk-container\" hidden><div class=\"sk-item\"><div class=\"sk-estimator fitted sk-toggleable\"><input class=\"sk-toggleable__control sk-hidden--visually\" id=\"sk-estimator-id-10\" type=\"checkbox\" checked><label for=\"sk-estimator-id-10\" class=\"sk-toggleable__label fitted sk-toggleable__label-arrow fitted\">&nbsp;&nbsp;SGDRegressor<a class=\"sk-estimator-doc-link fitted\" rel=\"noreferrer\" target=\"_blank\" href=\"https://scikit-learn.org/1.4/modules/generated/sklearn.linear_model.SGDRegressor.html\">?<span>Documentation for SGDRegressor</span></a><span class=\"sk-estimator-doc-link fitted\">i<span>Fitted</span></span></label><div class=\"sk-toggleable__content fitted\"><pre>SGDRegressor(eta0=0.0001, learning_rate=&#x27;constant&#x27;, max_iter=1000000)</pre></div> </div></div></div></div>"
      ],
      "text/plain": [
       "SGDRegressor(eta0=0.0001, learning_rate='constant', max_iter=1000000)"
      ]
     },
     "execution_count": 126,
     "metadata": {},
     "output_type": "execute_result"
    }
   ],
   "source": [
    "# from sklearn.pipeline import make_pipeline\n",
    "# from sklearn.preprocessing import StandardScaler\n",
    "\n",
    "X_train = train_data[['Celsius']]\n",
    "y_train = train_data['Valks']\n",
    "\n",
    "X_val = val_data[['Celsius']]\n",
    "y_val = val_data['Valks']\n",
    "\n",
    "X_test = test_data[['Celsius']]\n",
    "y_test = test_data['Valks']\n",
    "\n",
    "model = SGDRegressor(learning_rate = 'constant', eta0 = 1e-4, max_iter = 1000000, random_state = semilla)\n",
    "# model = make_pipeline(StandardScaler(), sgd_regressor) # Al descomentar la regresión sale \"bien\"\n",
    "model.fit(X_train, y_train)"
   ]
  },
  {
   "cell_type": "markdown",
   "metadata": {},
   "source": [
    "### 5. Calcula el error cuadrático medio para este modelo, sobre los datos de entrenamiento, validación, y prueba. Estos datos servirán como línea base.\n",
    "\n"
   ]
  },
  {
   "cell_type": "code",
   "execution_count": 127,
   "metadata": {},
   "outputs": [
    {
     "name": "stdout",
     "output_type": "stream",
     "text": [
      "Error cuadrático medio en validación: 1213.115476593805\n",
      "Error cuadrático medio en prueba: 1374.1587364361264\n",
      "Error cuadrático medio en entrenamiento: 906.2334217438034\n"
     ]
    }
   ],
   "source": [
    "y_train_pred = model.predict(X_train)\n",
    "y_val_pred = model.predict(X_val)\n",
    "y_test_pred = model.predict(X_test)\n",
    "\n",
    "mse_train = mean_squared_error(y_train, y_train_pred)\n",
    "mse_val = mean_squared_error(y_val, y_val_pred)\n",
    "mse_test = mean_squared_error(y_test, y_test_pred)\n",
    "\n",
    "print(f\"Error cuadrático medio en validación: {mse_val}\")\n",
    "print(f\"Error cuadrático medio en prueba: {mse_test}\")\n",
    "print(f\"Error cuadrático medio en entrenamiento: {mse_train}\")"
   ]
  },
  {
   "cell_type": "markdown",
   "metadata": {},
   "source": [
    "### 6. Realiza una gráfica donde muestres cada subconjunto de datos (entrenamiento, validación, prueba) y el modelo de regresión obtenido (como una recta)"
   ]
  },
  {
   "cell_type": "code",
   "execution_count": 128,
   "metadata": {},
   "outputs": [
    {
     "name": "stderr",
     "output_type": "stream",
     "text": [
      "/Library/Frameworks/Python.framework/Versions/3.9/lib/python3.9/site-packages/sklearn/base.py:493: UserWarning: X does not have valid feature names, but SGDRegressor was fitted with feature names\n",
      "  warnings.warn(\n"
     ]
    },
    {
     "data": {
      "image/png": "[encoded data removed]",
      "text/plain": [
       "<Figure size 1000x600 with 1 Axes>"
      ]
     },
     "metadata": {},
     "output_type": "display_data"
    }
   ],
   "source": [
    "plt.style.use(\"dark_background\")\n",
    "\n",
    "X_todo = np.concatenate([X_train, X_val, X_test])\n",
    "y_predict_todo = model.predict(X_todo)\n",
    "\n",
    "plt.figure(figsize = (10, 6))\n",
    "plt.scatter(X_train, y_train, color = 'blue', label = 'Entrenamiento')\n",
    "plt.scatter(X_val, y_val, color = 'green', label = 'Validación')\n",
    "plt.scatter(X_test, y_test, color = 'red', label = 'Prueba')\n",
    "idx = np.argsort(X_todo[:, 0])\n",
    "plt.plot(X_todo[idx], y_predict_todo[idx], color = 'white', label = 'Modelo de Regresión')\n",
    "plt.xlabel('Celsius')\n",
    "plt.ylabel('Valks')\n",
    "plt.title('Modelo de Regresión y Conjuntos de Datos')\n",
    "plt.legend()\n",
    "plt.show()"
   ]
  },
  {
   "cell_type": "markdown",
   "metadata": {},
   "source": [
    "### 7. Crea una lista que contenga 20 elementos (enteros) entre 2 y 39 (sin repetición, y que incluyan el número 2). Estos valores representarán la cantidad de instancias que se usarán para el análisis"
   ]
  },
  {
   "cell_type": "code",
   "execution_count": 129,
   "metadata": {},
   "outputs": [
    {
     "data": {
      "text/plain": [
       "[2, 5, 6, 7, 9, 11, 12, 15, 16, 19, 21, 23, 25, 26, 27, 29, 31, 32, 37, 39]"
      ]
     },
     "execution_count": 129,
     "metadata": {},
     "output_type": "execute_result"
    }
   ],
   "source": [
    "lista = random.sample(range(3, 40), 19)\n",
    "lista.append(2) \n",
    "lista = sorted(lista)\n",
    "\n",
    "lista"
   ]
  },
  {
   "cell_type": "markdown",
   "metadata": {},
   "source": [
    "### 8. Para cada uno de los tamaños del punto anterior, entrena 100 modelos usando un subconjunto aleatorio del set de entrenamiento que contenga esa cantidad de muestras. Por ejemplo, para el tamaño de 2 muestras, se deben entrenar 100 modelos utilizando 2 muestras seleccionadas aleatoriamente de las 40 muestras disponibles en el set de entrenamiento"
   ]
  },
  {
   "cell_type": "code",
   "execution_count": 130,
   "metadata": {},
   "outputs": [],
   "source": [
    "resultados = {}\n",
    "\n",
    "for tamanio in lista:\n",
    "    valores_mse_train = []\n",
    "    valores_mse_val = []\n",
    "    \n",
    "    for i in range(100):\n",
    "        indices_subconjunto = np.random.choice(X_train.index, size = tamanio, replace = False)\n",
    "        X_train_subconjunto = X_train.loc[indices_subconjunto]\n",
    "        y_train_subconjunto = y_train.loc[indices_subconjunto]\n",
    "        \n",
    "        modelo = SGDRegressor(learning_rate = 'constant', eta0 = 1e-4, max_iter = 1000000, random_state = semilla)\n",
    "        modelo.fit(X_train_subconjunto, y_train_subconjunto)\n",
    "        \n",
    "        y_train_pred = modelo.predict(X_train_subconjunto)\n",
    "        mse_entrenamiento = mean_squared_error(y_train_subconjunto, y_train_pred)\n",
    "        valores_mse_train.append(mse_entrenamiento)\n",
    "        \n",
    "        y_val_pred = modelo.predict(X_val)\n",
    "        mse_validacion = mean_squared_error(y_val, y_val_pred)\n",
    "        valores_mse_val.append(mse_validacion)\n",
    "\n",
    "    mse_promedio_train = np.mean(valores_mse_train)\n",
    "    mse_promedio_val = np.mean(valores_mse_val)\n",
    "    resultados[tamanio] = (mse_promedio_train, mse_promedio_val)"
   ]
  },
  {
   "cell_type": "markdown",
   "metadata": {},
   "source": [
    "### 9. Para cada uno de los modelos del punto anterior, calcula el error cuadrático medio en el subconjunto de entrenamiento (el que tiene un número cambiante de muestras), y en el subconjunto de validación"
   ]
  },
  {
   "cell_type": "code",
   "execution_count": 131,
   "metadata": {},
   "outputs": [
    {
     "name": "stdout",
     "output_type": "stream",
     "text": [
      "--------------------------\n",
      "Tamaño del subconjunto: 2\n",
      "MSE Promedio (Entrenamiento): 53.4307\n",
      "MSE Promedio (Validación):    4000.6260\n",
      "--------------------------\n",
      "--------------------------\n",
      "Tamaño del subconjunto: 5\n",
      "MSE Promedio (Entrenamiento): 145.2278\n",
      "MSE Promedio (Validación):    318.4361\n",
      "--------------------------\n",
      "--------------------------\n",
      "Tamaño del subconjunto: 6\n",
      "MSE Promedio (Entrenamiento): 280.6431\n",
      "MSE Promedio (Validación):    484.4807\n",
      "--------------------------\n",
      "--------------------------\n",
      "Tamaño del subconjunto: 7\n",
      "MSE Promedio (Entrenamiento): 506.7854\n",
      "MSE Promedio (Validación):    780.1730\n",
      "--------------------------\n",
      "--------------------------\n",
      "Tamaño del subconjunto: 9\n",
      "MSE Promedio (Entrenamiento): 678.7582\n",
      "MSE Promedio (Validación):    1023.5714\n",
      "--------------------------\n",
      "--------------------------\n",
      "Tamaño del subconjunto: 11\n",
      "MSE Promedio (Entrenamiento): 814.2019\n",
      "MSE Promedio (Validación):    1143.5117\n",
      "--------------------------\n",
      "--------------------------\n",
      "Tamaño del subconjunto: 12\n",
      "MSE Promedio (Entrenamiento): 835.9687\n",
      "MSE Promedio (Validación):    1184.5506\n",
      "--------------------------\n",
      "--------------------------\n",
      "Tamaño del subconjunto: 15\n",
      "MSE Promedio (Entrenamiento): 866.4159\n",
      "MSE Promedio (Validación):    1215.5231\n",
      "--------------------------\n",
      "--------------------------\n",
      "Tamaño del subconjunto: 16\n",
      "MSE Promedio (Entrenamiento): 863.7638\n",
      "MSE Promedio (Validación):    1209.3900\n",
      "--------------------------\n",
      "--------------------------\n",
      "Tamaño del subconjunto: 19\n",
      "MSE Promedio (Entrenamiento): 923.6178\n",
      "MSE Promedio (Validación):    1219.0493\n",
      "--------------------------\n",
      "--------------------------\n",
      "Tamaño del subconjunto: 21\n",
      "MSE Promedio (Entrenamiento): 941.9525\n",
      "MSE Promedio (Validación):    1215.5864\n",
      "--------------------------\n",
      "--------------------------\n",
      "Tamaño del subconjunto: 23\n",
      "MSE Promedio (Entrenamiento): 911.6650\n",
      "MSE Promedio (Validación):    1228.4363\n",
      "--------------------------\n",
      "--------------------------\n",
      "Tamaño del subconjunto: 25\n",
      "MSE Promedio (Entrenamiento): 930.5392\n",
      "MSE Promedio (Validación):    1224.2749\n",
      "--------------------------\n",
      "--------------------------\n",
      "Tamaño del subconjunto: 26\n",
      "MSE Promedio (Entrenamiento): 919.7035\n",
      "MSE Promedio (Validación):    1225.0697\n",
      "--------------------------\n",
      "--------------------------\n",
      "Tamaño del subconjunto: 27\n",
      "MSE Promedio (Entrenamiento): 916.0928\n",
      "MSE Promedio (Validación):    1227.4774\n",
      "--------------------------\n",
      "--------------------------\n",
      "Tamaño del subconjunto: 29\n",
      "MSE Promedio (Entrenamiento): 907.7428\n",
      "MSE Promedio (Validación):    1218.4854\n",
      "--------------------------\n",
      "--------------------------\n",
      "Tamaño del subconjunto: 31\n",
      "MSE Promedio (Entrenamiento): 904.7367\n",
      "MSE Promedio (Validación):    1211.4752\n",
      "--------------------------\n",
      "--------------------------\n",
      "Tamaño del subconjunto: 32\n",
      "MSE Promedio (Entrenamiento): 900.7663\n",
      "MSE Promedio (Validación):    1222.3479\n",
      "--------------------------\n",
      "--------------------------\n",
      "Tamaño del subconjunto: 37\n",
      "MSE Promedio (Entrenamiento): 918.7161\n",
      "MSE Promedio (Validación):    1207.0410\n",
      "--------------------------\n",
      "--------------------------\n",
      "Tamaño del subconjunto: 39\n",
      "MSE Promedio (Entrenamiento): 912.9750\n",
      "MSE Promedio (Validación):    1205.5330\n",
      "--------------------------\n"
     ]
    }
   ],
   "source": [
    "for tamanio, (mean_mse_train, mean_mse_val) in resultados.items():\n",
    "    print(f\"--------------------------\")\n",
    "    print(f\"Tamaño del subconjunto: {tamanio}\")\n",
    "    print(f\"MSE Promedio (Entrenamiento): {mean_mse_train:.4f}\")\n",
    "    print(f\"MSE Promedio (Validación):    {mean_mse_val:.4f}\")\n",
    "    print(f\"--------------------------\")"
   ]
  },
  {
   "cell_type": "markdown",
   "metadata": {},
   "source": [
    "### 10. Calcula el promedio de las 100 repeticiones para cada uno de los modelos y sus errores. Esto debería generar dos listas de 20 valores cada uno, donde cada elemento representa el error promedio de las 100 repeticiones que se hicieron para cada subconjunto de entrenamiento"
   ]
  },
  {
   "cell_type": "code",
   "execution_count": 132,
   "metadata": {},
   "outputs": [
    {
     "name": "stdout",
     "output_type": "stream",
     "text": [
      "Lista de MSE promedio en entrenamiento:\n",
      "[53.430741041691455, 145.22776162514748, 280.6430686201992, 506.7853878592965, 678.7582031762984, 814.2019375388944, 835.9686773263066, 866.415910289418, 863.7637905809371, 923.617757506941, 941.9525106680961, 911.6649988623327, 930.5392175445949, 919.7035255055415, 916.0928414709655, 907.7427968905744, 904.7367355889681, 900.7663222001644, 918.7161336525684, 912.9749895607914]\n",
      "\n",
      "Lista de MSE promedio en validación:\n",
      "[4000.6259600212775, 318.4360742779815, 484.48067666961816, 780.172997463728, 1023.5714464382522, 1143.5116534607764, 1184.55056660945, 1215.5231227809502, 1209.3900053790762, 1219.0492877251354, 1215.586405860236, 1228.4363308774198, 1224.274947981697, 1225.0697147548478, 1227.4773540902963, 1218.485416796134, 1211.4751509658024, 1222.347919499651, 1207.0410012586894, 1205.5329805833878]\n"
     ]
    }
   ],
   "source": [
    "mse_promedios_train = []\n",
    "mse_promedios_val = []\n",
    "\n",
    "for tamanio, (mean_mse_train, mean_mse_val) in resultados.items():\n",
    "    mse_promedios_train.append(mean_mse_train)\n",
    "    mse_promedios_val.append(mean_mse_val)\n",
    "\n",
    "print(\"Lista de MSE promedio en entrenamiento:\")\n",
    "print(mse_promedios_train)\n",
    "\n",
    "print(\"\\nLista de MSE promedio en validación:\")\n",
    "print(mse_promedios_val)"
   ]
  },
  {
   "cell_type": "markdown",
   "metadata": {},
   "source": [
    "### 11. Agrega a las listas anteriores los errores de entrenamiento y validación de la línea base"
   ]
  },
  {
   "cell_type": "code",
   "execution_count": 133,
   "metadata": {},
   "outputs": [
    {
     "name": "stdout",
     "output_type": "stream",
     "text": [
      "Lista de MSE promedio en entrenamiento:\n",
      "[53.430741041691455, 145.22776162514748, 280.6430686201992, 506.7853878592965, 678.7582031762984, 814.2019375388944, 835.9686773263066, 866.415910289418, 863.7637905809371, 923.617757506941, 941.9525106680961, 911.6649988623327, 930.5392175445949, 919.7035255055415, 916.0928414709655, 907.7427968905744, 904.7367355889681, 900.7663222001644, 918.7161336525684, 912.9749895607914, 906.2334217438034]\n",
      "\n",
      "Lista de MSE promedio en validación:\n",
      "[4000.6259600212775, 318.4360742779815, 484.48067666961816, 780.172997463728, 1023.5714464382522, 1143.5116534607764, 1184.55056660945, 1215.5231227809502, 1209.3900053790762, 1219.0492877251354, 1215.586405860236, 1228.4363308774198, 1224.274947981697, 1225.0697147548478, 1227.4773540902963, 1218.485416796134, 1211.4751509658024, 1222.347919499651, 1207.0410012586894, 1205.5329805833878, 1213.115476593805]\n"
     ]
    }
   ],
   "source": [
    "mse_promedios_train.append(mse_train)  \n",
    "mse_promedios_val.append(mse_val)    \n",
    "\n",
    "print(\"Lista de MSE promedio en entrenamiento:\")\n",
    "print(mse_promedios_train)\n",
    "\n",
    "print(\"\\nLista de MSE promedio en validación:\")\n",
    "print(mse_promedios_val)"
   ]
  },
  {
   "cell_type": "markdown",
   "metadata": {},
   "source": [
    "### 12. Haz una gráfica donde se muestre la evolución del error promedio de entrenamiento y validación, para cada uno de los diferentes tamaños de entrenamiento"
   ]
  },
  {
   "cell_type": "code",
   "execution_count": 134,
   "metadata": {},
   "outputs": [
    {
     "data": {
      "image/png": "[encoded data removed]",
      "text/plain": [
       "<Figure size 1000x600 with 1 Axes>"
      ]
     },
     "metadata": {},
     "output_type": "display_data"
    }
   ],
   "source": [
    "tamanios_entrenamiento = lista.copy()  \n",
    "tamanios_entrenamiento.append(len(X_train))\n",
    "\n",
    "plt.figure(figsize = (10, 6))\n",
    "plt.plot(tamanios_entrenamiento, mse_promedios_train, label = \"MSE Promedio - Entrenamiento\", marker = 'o', linestyle = '-', color = 'yellow')\n",
    "plt.plot(tamanios_entrenamiento, mse_promedios_val, label = \"MSE Promedio - Validación\", marker = 'o', linestyle = '-', color = 'red')\n",
    "plt.xlabel(\"Tamaño del subconjunto de entrenamiento\")\n",
    "plt.ylabel(\"Error Cuadrático Medio\")\n",
    "plt.title(\"Evolución del MSE según el tamaño del conjunto de entrenamiento\")\n",
    "plt.legend()\n",
    "plt.show()"
   ]
  },
  {
   "cell_type": "markdown",
   "metadata": {},
   "source": [
    "### 13. Con base en la grafica anterior, explica el tipo de ajuste obtenido para el primer modelo (el entrenado sobre 2 muestras) y para el modelo final (el entrenado sobre 40 muestras). También explica como cambia el tipo de ajuste a medida que se incrementa el número de muestras del entrenamiento. Incluye también en tu análisis el grado de sesgo y de varianza para los diferentes modelos."
   ]
  },
  {
   "cell_type": "markdown",
   "metadata": {},
   "source": [
    "**Tipo de ajuste para el modelo entrenado con 2 muestras:**\n",
    "- MSE del Entrenamiento: Como se ve la ve en la gráfica anterior inicia muy bajo en 53.43, porque solo tenemos 2 muestras, lo que nos dice que el modelo ajusta muy bien.\n",
    "- MSE de Validación:  Como se ve la ve en la gráfica anterior inicia extremadamente alto en 4000, el modelo no generaliza como debería, tiene sobreajuste o alta varianza.\n",
    "\n",
    "**Tipo de ajuste para el modelo entrenado con 40 muestras:**\n",
    "- MSE del Entrenamiento: Como se ve la ve en la gráfica anterior en la iteración 40, marca 912.97, lo que nos dice que ajusta bien los datos.\n",
    "- MSE de Validación: Como se ve la ve en la gráfica anterior en la iteración 40, marca 1205.53 este es algo mayor que el de entrenamiento, lo cual es esperado, ya que el modelo tiende a tener un rendimiento ligeramente peor en datos no vistos.\n",
    "\n",
    "**Comportamiento dependiendo la cantidad de muestras:**\n",
    "A medida que se incrementa el tamaño del subconjunto de entrenamiento, el sesgo disminuye lo que nos ayuda a mejorar el ajuste de los datos y la varianza también disminuye.\n",
    "También a partir del tamaño 20 aproximadamente del subconjunto, el MSE en validación se estabiliza, lo que nos dice que agregar más datos no mejora el rendimiento.\n",
    "\n"
   ]
  },
  {
   "cell_type": "markdown",
   "metadata": {},
   "source": [
    "### 14. Con base en la gráfica y los datos, identifica la cantidad de muestras más adecuada para realizar el entrenamiento. Justifica tu selección. "
   ]
  },
  {
   "cell_type": "markdown",
   "metadata": {},
   "source": [
    "Con base a la gráfica la cantidad de muestras que considero más adecuada es la linea donde es más estable, diría que al rededor de 30 a 35 muestras nos proporciona un buen balance entre el ajuste del modelo y una buena capacidad de generalización. El modelo ya ha aprendido suficiente información sin llegar a sobreajustarse a los datos de entrenamiento. Si agregamos más información esta no nos servirá de nada, solo nos hará gastar tiempo computacional y tiempo."
   ]
  },
  {
   "cell_type": "markdown",
   "metadata": {},
   "source": [
    "### 15. Entrena un nuevo modelo utilizando esa cantidad de muestras, y calcula su error cuadrático medio sobre el subconjunto de entrenamiento (el de la cantidad de muestras seleccionadas), el de validación, y el de prueba."
   ]
  },
  {
   "cell_type": "code",
   "execution_count": 135,
   "metadata": {},
   "outputs": [
    {
     "data": {
      "text/plain": [
       "{'MSE en entrenamiento (35 muestras)': 981.3707863162269,\n",
       " 'MSE en validación': 1270.850563174737,\n",
       " 'MSE en prueba': 1377.7756855590155}"
      ]
     },
     "execution_count": 135,
     "metadata": {},
     "output_type": "execute_result"
    }
   ],
   "source": [
    "tamanio_optimo = 35\n",
    "indices_subconjunto_optimo = np.random.choice(X_train.index, size = tamanio_optimo, replace = False)\n",
    "\n",
    "X_train_optimo = X_train.loc[indices_subconjunto_optimo]\n",
    "y_train_optimo = y_train.loc[indices_subconjunto_optimo]\n",
    "\n",
    "modelo_optimo = SGDRegressor(learning_rate = 'constant', eta0 = 1e-4, max_iter = 1000000, random_state = semilla)\n",
    "\n",
    "modelo_optimo.fit(X_train_optimo, y_train_optimo)\n",
    "\n",
    "y_train_optimo_pred = modelo_optimo.predict(X_train_optimo)\n",
    "y_val_optimo_pred = modelo_optimo.predict(X_val)\n",
    "y_test_optimo_pred = modelo_optimo.predict(X_test)\n",
    "\n",
    "mse_train_optimo = mean_squared_error(y_train_optimo, y_train_optimo_pred)\n",
    "mse_val_optimo = mean_squared_error(y_val, y_val_optimo_pred)\n",
    "mse_test_optimo = mean_squared_error(y_test, y_test_optimo_pred)\n",
    "\n",
    "resultados_mse_optimo = {\"MSE en entrenamiento (35 muestras)\": mse_train_optimo, \"MSE en validación\": mse_val_optimo,\"MSE en prueba\": mse_test_optimo}\n",
    "resultados_mse_optimo"
   ]
  },
  {
   "cell_type": "markdown",
   "metadata": {},
   "source": [
    "### 16. Compara los valores del punto anterior contra los errores obtenidos para la línea base (ver punto 5)"
   ]
  },
  {
   "cell_type": "code",
   "execution_count": 136,
   "metadata": {},
   "outputs": [
    {
     "data": {
      "text/plain": [
       "{'Modelo Original - MSE en entrenamiento': 906.2334217438034,\n",
       " 'Nuevo modelo (35 muestras) - MSE en entrenamiento': 981.3707863162269,\n",
       " 'Modelo Original - MSE en validación': 1213.115476593805,\n",
       " 'Nuevo modelo (35 muestras) - MSE en validación': 1270.850563174737,\n",
       " 'Modelo Original - MSE en prueba': 1374.1587364361264,\n",
       " 'Nuevo modelo (35 muestras) - MSE en prueba': 1377.7756855590155}"
      ]
     },
     "execution_count": 136,
     "metadata": {},
     "output_type": "execute_result"
    }
   ],
   "source": [
    "mse_linea_base_train = mse_train\n",
    "mse_linea_base_val = mse_val\n",
    "mse_linea_base_test = mse_test\n",
    "\n",
    "comparacion_mse = {\"Modelo Original - MSE en entrenamiento\": mse_linea_base_train,\n",
    "    \"Nuevo modelo (35 muestras) - MSE en entrenamiento\": mse_train_optimo,\n",
    "    \"Modelo Original - MSE en validación\": mse_linea_base_val,\n",
    "    \"Nuevo modelo (35 muestras) - MSE en validación\": mse_val_optimo,\n",
    "    \"Modelo Original - MSE en prueba\": mse_linea_base_test,\n",
    "    \"Nuevo modelo (35 muestras) - MSE en prueba\": mse_test_optimo}\n",
    "\n",
    "comparacion_mse"
   ]
  },
  {
   "cell_type": "markdown",
   "metadata": {},
   "source": [
    "### 17. Argumenta cuál configuración funcionó mejor, y por qué"
   ]
  },
  {
   "cell_type": "markdown",
   "metadata": {},
   "source": [
    "El modelo original tiene un MSE de entrenamiento más bajo en general, lo que indica que ajustó mejor los datos del conjunto de entrenamiento, esto es esperable, ya que se utilizó más datos para aprender. El Modelo Original funcionó mejor en mi caso, ya que nos dió un MSE más bajo en todos los conjuntos y aprovechó mejor el tamaño completo del conjunto de entrenamiento, también no hubo signos de sobreajuste. La razón de esto es que con más muestras, el modelo tiene más información para aprender patrones más precisos, lo que resulta en un menor sesgo sin un aumento significativo de la varianza."
   ]
  }
 ],
 "metadata": {
  "kernelspec": {
   "display_name": "Python 3",
   "language": "python",
   "name": "python3"
  },
  "language_info": {
   "codemirror_mode": {
    "name": "ipython",
    "version": 3
   },
   "file_extension": ".py",
   "mimetype": "text/x-python",
   "name": "python",
   "nbconvert_exporter": "python",
   "pygments_lexer": "ipython3",
   "version": "3.9.7"
  }
 },
 "nbformat": 4,
 "nbformat_minor": 2
}
